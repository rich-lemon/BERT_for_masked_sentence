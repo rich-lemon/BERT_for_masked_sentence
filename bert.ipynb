{
 "cells": [
  {
   "cell_type": "markdown",
   "metadata": {},
   "source": [
    "# ライブラリのimport\n",
    "Pytorch，Transformers，Juman++．"
   ]
  },
  {
   "cell_type": "code",
   "execution_count": 1,
   "metadata": {},
   "outputs": [
    {
     "name": "stderr",
     "output_type": "stream",
     "text": [
      "/usr/local/lib/python3.10/site-packages/tqdm/auto.py:22: TqdmWarning: IProgress not found. Please update jupyter and ipywidgets. See https://ipywidgets.readthedocs.io/en/stable/user_install.html\n",
      "  from .autonotebook import tqdm as notebook_tqdm\n"
     ]
    }
   ],
   "source": [
    "import torch\n",
    "from transformers import AutoTokenizer, AutoModelForMaskedLM\n",
    "from pyknp import Juman"
   ]
  },
  {
   "cell_type": "markdown",
   "metadata": {},
   "source": [
    "# モデルとTokenizerの読み込み\n",
    "[京都大学，黒橋・褚・村脇研究室の日本語で学習したBERTの事前学習モデル](https://huggingface.co/nlp-waseda/roberta-base-japanese)と，TransformersライブラリのTokenizerを読み込む．"
   ]
  },
  {
   "cell_type": "code",
   "execution_count": 2,
   "metadata": {},
   "outputs": [
    {
     "name": "stderr",
     "output_type": "stream",
     "text": [
      "Downloading: 100%|██████████| 431/431 [00:00<00:00, 505kB/s]\n",
      "Downloading: 100%|██████████| 810k/810k [00:00<00:00, 2.47MB/s]\n",
      "Downloading: 100%|██████████| 244/244 [00:00<00:00, 268kB/s]\n",
      "/usr/local/lib/python3.10/site-packages/transformers/convert_slow_tokenizer.py:446: UserWarning: The sentencepiece tokenizer that you are converting to a fast tokenizer uses the byte fallback option which is not implemented in the fast tokenizers. In practice this means that the fast version of the tokenizer can produce unknown tokens whereas the sentencepiece version would have converted these unknown tokens into a sequence of byte tokens matching the original piece of text.\n",
      "  warnings.warn(\n",
      "Downloading: 100%|██████████| 637/637 [00:00<00:00, 635kB/s]\n",
      "Downloading: 100%|██████████| 443M/443M [01:50<00:00, 4.02MB/s] \n"
     ]
    }
   ],
   "source": [
    "tokenizer = AutoTokenizer.from_pretrained(\"nlp-waseda/roberta-base-japanese\")\n",
    "model = AutoModelForMaskedLM.from_pretrained(\"nlp-waseda/roberta-base-japanese\")\n",
    "# model.cuda() # GPU対応"
   ]
  },
  {
   "cell_type": "markdown",
   "metadata": {},
   "source": [
    "# 形態素解析\n",
    "Juman++を使用．\n",
    "「りんごが宙を舞う。」"
   ]
  },
  {
   "cell_type": "code",
   "execution_count": 11,
   "metadata": {},
   "outputs": [
    {
     "name": "stdout",
     "output_type": "stream",
     "text": [
      "['りんご', 'が', '宙', 'を', '舞う', '。']\n"
     ]
    }
   ],
   "source": [
    "# Juman++\n",
    "jumanpp = Juman()\n",
    "\n",
    "sentence = \"りんごが宙を舞う。\"\n",
    "result = jumanpp.analysis(sentence)\n",
    "tokens = [mrph.midasi for mrph in result.mrph_list()]\n",
    "print(tokens)"
   ]
  },
  {
   "cell_type": "markdown",
   "metadata": {},
   "source": [
    "# マスキング\n",
    "文章の一部をマスク．"
   ]
  },
  {
   "cell_type": "code",
   "execution_count": 13,
   "metadata": {},
   "outputs": [
    {
     "name": "stdout",
     "output_type": "stream",
     "text": [
      "['りんご', 'が', '[MASK]', 'を', '舞う', '。']\n",
      "りんご が [MASK] を 舞う 。\n"
     ]
    }
   ],
   "source": [
    "# マスキング\n",
    "masked_index = 2\n",
    "tokens[masked_index] = '[MASK]'\n",
    "print(tokens)\n",
    "\n",
    "# マスク後の文章\n",
    "masked_sentence = ' '.join(tokens)\n",
    "print(masked_sentence)"
   ]
  },
  {
   "cell_type": "markdown",
   "metadata": {},
   "source": [
    "# Tokenize\n",
    "各形態素のindexを取得．"
   ]
  },
  {
   "cell_type": "code",
   "execution_count": 37,
   "metadata": {},
   "outputs": [
    {
     "name": "stdout",
     "output_type": "stream",
     "text": [
      "tensor([[    2, 27643,   268,     4,   266,  5251,   906,   264,     3]])\n",
      "['[CLS]', '▁りんご', '▁が', '[MASK]', '▁を', '▁舞', 'う', '▁。', '[SEP]']\n"
     ]
    }
   ],
   "source": [
    "# tokenize\n",
    "tokenized = tokenizer(masked_sentence, return_tensors='pt')\n",
    "x = tokenized['input_ids']\n",
    "print(x)\n",
    "\n",
    "# masked_tokens = tokenizer.convert_ids_to_tokens(x[0].tolist())\n",
    "# print(masked_tokens)"
   ]
  },
  {
   "cell_type": "markdown",
   "metadata": {},
   "source": [
    "# 推論"
   ]
  },
  {
   "cell_type": "code",
   "execution_count": 39,
   "metadata": {},
   "outputs": [
    {
     "name": "stdout",
     "output_type": "stream",
     "text": [
      "tensor([ 5251, 16105,   538,  1937,   340,  3351,  6874,   389,   431, 20254])\n"
     ]
    }
   ],
   "source": [
    "# モデル\n",
    "y = model(x)\n",
    "\n",
    "# 出力結果\n",
    "predictions = y[0]\n",
    "masked_index = 3\n",
    "_, predicted_indexes = torch.topk(predictions[0, masked_index], k=10)\n",
    "print(predicted_indexes)"
   ]
  },
  {
   "cell_type": "markdown",
   "metadata": {},
   "source": [
    "# 推測された単語\n",
    "sentencepieceライブラリの仕様上，先頭に_が付く．"
   ]
  },
  {
   "cell_type": "code",
   "execution_count": 40,
   "metadata": {},
   "outputs": [
    {
     "name": "stdout",
     "output_type": "stream",
     "text": [
      "['▁舞', '▁宙', '▁中心', '▁空', '▁大', '▁一番', '▁空中', '▁世界', '▁お', '▁まわり']\n"
     ]
    }
   ],
   "source": [
    "# マスクされた単語の推測\n",
    "predicted_tokens = tokenizer.convert_ids_to_tokens(predicted_indexes.tolist())\n",
    "print(predicted_tokens)"
   ]
  }
 ],
 "metadata": {
  "kernelspec": {
   "display_name": "Python 3.10.8 64-bit",
   "language": "python",
   "name": "python3"
  },
  "language_info": {
   "codemirror_mode": {
    "name": "ipython",
    "version": 3
   },
   "file_extension": ".py",
   "mimetype": "text/x-python",
   "name": "python",
   "nbconvert_exporter": "python",
   "pygments_lexer": "ipython3",
   "version": "3.10.8"
  },
  "orig_nbformat": 4,
  "vscode": {
   "interpreter": {
    "hash": "949777d72b0d2535278d3dc13498b2535136f6dfe0678499012e853ee9abcab1"
   }
  }
 },
 "nbformat": 4,
 "nbformat_minor": 2
}
